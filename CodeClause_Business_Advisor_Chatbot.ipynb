{
  "nbformat": 4,
  "nbformat_minor": 0,
  "metadata": {
    "colab": {
      "provenance": [],
      "authorship_tag": "ABX9TyOpJl7QmSbrat2Jc5w3RNgJ",
      "include_colab_link": true
    },
    "kernelspec": {
      "name": "python3",
      "display_name": "Python 3"
    },
    "language_info": {
      "name": "python"
    }
  },
  "cells": [
    {
      "cell_type": "markdown",
      "metadata": {
        "id": "view-in-github",
        "colab_type": "text"
      },
      "source": [
        "<a href=\"https://colab.research.google.com/github/pravinhadawale/CodeClause_Business_Advisor_Chatbot/blob/main/CodeClause_Business_Advisor_Chatbot.ipynb\" target=\"_parent\"><img src=\"https://colab.research.google.com/assets/colab-badge.svg\" alt=\"Open In Colab\"/></a>"
      ]
    },
    {
      "cell_type": "code",
      "execution_count": 1,
      "metadata": {
        "colab": {
          "base_uri": "https://localhost:8080/"
        },
        "id": "1i7bJcb_iUVI",
        "outputId": "0eaf4a18-9f13-401b-a4b8-627404713c91"
      },
      "outputs": [
        {
          "output_type": "stream",
          "name": "stdout",
          "text": [
            "Looking in indexes: https://pypi.org/simple, https://us-python.pkg.dev/colab-wheels/public/simple/\n",
            "Collecting newspaper3k\n",
            "  Downloading newspaper3k-0.2.8-py3-none-any.whl (211 kB)\n",
            "\u001b[K     |████████████████████████████████| 211 kB 5.4 MB/s \n",
            "\u001b[?25hCollecting jieba3k>=0.35.1\n",
            "  Downloading jieba3k-0.35.1.zip (7.4 MB)\n",
            "\u001b[K     |████████████████████████████████| 7.4 MB 53.6 MB/s \n",
            "\u001b[?25hRequirement already satisfied: requests>=2.10.0 in /usr/local/lib/python3.7/dist-packages (from newspaper3k) (2.23.0)\n",
            "Requirement already satisfied: beautifulsoup4>=4.4.1 in /usr/local/lib/python3.7/dist-packages (from newspaper3k) (4.6.3)\n",
            "Requirement already satisfied: nltk>=3.2.1 in /usr/local/lib/python3.7/dist-packages (from newspaper3k) (3.7)\n",
            "Collecting tldextract>=2.0.1\n",
            "  Downloading tldextract-3.4.0-py3-none-any.whl (93 kB)\n",
            "\u001b[K     |████████████████████████████████| 93 kB 2.6 MB/s \n",
            "\u001b[?25hRequirement already satisfied: lxml>=3.6.0 in /usr/local/lib/python3.7/dist-packages (from newspaper3k) (4.9.1)\n",
            "Collecting feedparser>=5.2.1\n",
            "  Downloading feedparser-6.0.10-py3-none-any.whl (81 kB)\n",
            "\u001b[K     |████████████████████████████████| 81 kB 9.6 MB/s \n",
            "\u001b[?25hRequirement already satisfied: Pillow>=3.3.0 in /usr/local/lib/python3.7/dist-packages (from newspaper3k) (7.1.2)\n",
            "Collecting feedfinder2>=0.0.4\n",
            "  Downloading feedfinder2-0.0.4.tar.gz (3.3 kB)\n",
            "Collecting tinysegmenter==0.3\n",
            "  Downloading tinysegmenter-0.3.tar.gz (16 kB)\n",
            "Requirement already satisfied: PyYAML>=3.11 in /usr/local/lib/python3.7/dist-packages (from newspaper3k) (6.0)\n",
            "Collecting cssselect>=0.9.2\n",
            "  Downloading cssselect-1.2.0-py2.py3-none-any.whl (18 kB)\n",
            "Requirement already satisfied: python-dateutil>=2.5.3 in /usr/local/lib/python3.7/dist-packages (from newspaper3k) (2.8.2)\n",
            "Requirement already satisfied: six in /usr/local/lib/python3.7/dist-packages (from feedfinder2>=0.0.4->newspaper3k) (1.15.0)\n",
            "Collecting sgmllib3k\n",
            "  Downloading sgmllib3k-1.0.0.tar.gz (5.8 kB)\n",
            "Requirement already satisfied: tqdm in /usr/local/lib/python3.7/dist-packages (from nltk>=3.2.1->newspaper3k) (4.64.1)\n",
            "Requirement already satisfied: click in /usr/local/lib/python3.7/dist-packages (from nltk>=3.2.1->newspaper3k) (7.1.2)\n",
            "Requirement already satisfied: joblib in /usr/local/lib/python3.7/dist-packages (from nltk>=3.2.1->newspaper3k) (1.2.0)\n",
            "Requirement already satisfied: regex>=2021.8.3 in /usr/local/lib/python3.7/dist-packages (from nltk>=3.2.1->newspaper3k) (2022.6.2)\n",
            "Requirement already satisfied: idna<3,>=2.5 in /usr/local/lib/python3.7/dist-packages (from requests>=2.10.0->newspaper3k) (2.10)\n",
            "Requirement already satisfied: certifi>=2017.4.17 in /usr/local/lib/python3.7/dist-packages (from requests>=2.10.0->newspaper3k) (2022.9.24)\n",
            "Requirement already satisfied: chardet<4,>=3.0.2 in /usr/local/lib/python3.7/dist-packages (from requests>=2.10.0->newspaper3k) (3.0.4)\n",
            "Requirement already satisfied: urllib3!=1.25.0,!=1.25.1,<1.26,>=1.21.1 in /usr/local/lib/python3.7/dist-packages (from requests>=2.10.0->newspaper3k) (1.24.3)\n",
            "Requirement already satisfied: filelock>=3.0.8 in /usr/local/lib/python3.7/dist-packages (from tldextract>=2.0.1->newspaper3k) (3.8.0)\n",
            "Collecting requests-file>=1.4\n",
            "  Downloading requests_file-1.5.1-py2.py3-none-any.whl (3.7 kB)\n",
            "Building wheels for collected packages: tinysegmenter, feedfinder2, jieba3k, sgmllib3k\n",
            "  Building wheel for tinysegmenter (setup.py) ... \u001b[?25l\u001b[?25hdone\n",
            "  Created wheel for tinysegmenter: filename=tinysegmenter-0.3-py3-none-any.whl size=13553 sha256=2046a3607a98637ca42d4b0857be540134c7ab281233148efd811d96b87abc70\n",
            "  Stored in directory: /root/.cache/pip/wheels/df/67/41/faca10fa501ca010be41b49d40360c2959e1c4f09bcbfa37fa\n",
            "  Building wheel for feedfinder2 (setup.py) ... \u001b[?25l\u001b[?25hdone\n",
            "  Created wheel for feedfinder2: filename=feedfinder2-0.0.4-py3-none-any.whl size=3357 sha256=273359d9565758bd90237d237fe6dc0e403145cfe8b87c71d9a8f24ae6a57ec0\n",
            "  Stored in directory: /root/.cache/pip/wheels/7f/d4/8f/6e2ca54744c9d7292d88ddb8d42876bcdab5e6d84a21c10346\n",
            "  Building wheel for jieba3k (setup.py) ... \u001b[?25l\u001b[?25hdone\n",
            "  Created wheel for jieba3k: filename=jieba3k-0.35.1-py3-none-any.whl size=7398404 sha256=3090b365382cefbd27fe42210307ea711117d731e7f8a360855b9a1332ed94db\n",
            "  Stored in directory: /root/.cache/pip/wheels/4c/91/46/3c208287b726df325a5979574324878b679116e4baae1af3c3\n",
            "  Building wheel for sgmllib3k (setup.py) ... \u001b[?25l\u001b[?25hdone\n",
            "  Created wheel for sgmllib3k: filename=sgmllib3k-1.0.0-py3-none-any.whl size=6066 sha256=b306c972a8abf694d4926b80affd4b1baf62c09649e830fdc2d906b882930f7c\n",
            "  Stored in directory: /root/.cache/pip/wheels/73/ad/a4/0dff4a6ef231fc0dfa12ffbac2a36cebfdddfe059f50e019aa\n",
            "Successfully built tinysegmenter feedfinder2 jieba3k sgmllib3k\n",
            "Installing collected packages: sgmllib3k, requests-file, tldextract, tinysegmenter, jieba3k, feedparser, feedfinder2, cssselect, newspaper3k\n",
            "Successfully installed cssselect-1.2.0 feedfinder2-0.0.4 feedparser-6.0.10 jieba3k-0.35.1 newspaper3k-0.2.8 requests-file-1.5.1 sgmllib3k-1.0.0 tinysegmenter-0.3 tldextract-3.4.0\n"
          ]
        }
      ],
      "source": [
        "!pip install newspaper3k"
      ]
    },
    {
      "cell_type": "code",
      "source": [
        "#Import libraries \n",
        "from newspaper import Article \n",
        "import random\n",
        "import string \n",
        "import nltk\n",
        "from sklearn.feature_extraction.text import CountVectorizer\n",
        "from sklearn.metrics.pairwise import cosine_similarity\n",
        "import numpy as np\n",
        "import warnings \n",
        "warnings.filterwarnings('ignore')\n",
        "#Download the punkt package \n",
        "nltk.download('punkt', quiet=True)"
      ],
      "metadata": {
        "colab": {
          "base_uri": "https://localhost:8080/"
        },
        "id": "Sv1Brh2UioYw",
        "outputId": "e060e99a-0d2b-4411-9c83-7e7ac864af3b"
      },
      "execution_count": 2,
      "outputs": [
        {
          "output_type": "execute_result",
          "data": {
            "text/plain": [
              "True"
            ]
          },
          "metadata": {},
          "execution_count": 2
        }
      ]
    },
    {
      "cell_type": "code",
      "source": [
        "#Get the article \n",
        "article = Article('https://www.grantthornton.in/services/growth/business-consulting/')\n",
        "article.download()\n",
        "article.parse()\n",
        "article.nlp()\n",
        "corpus = article.text"
      ],
      "metadata": {
        "id": "hONpJBLTirQA"
      },
      "execution_count": 3,
      "outputs": []
    },
    {
      "cell_type": "code",
      "source": [
        "#Print the articles text \n",
        "print(corpus)"
      ],
      "metadata": {
        "colab": {
          "base_uri": "https://localhost:8080/"
        },
        "id": "yJ_S9IdwiuSI",
        "outputId": "8a0a303c-6593-4a28-9744-7b12080e4378"
      },
      "execution_count": 4,
      "outputs": [
        {
          "output_type": "stream",
          "name": "stdout",
          "text": [
            "The country’s eased regulatory scenario and improved ease of doing are increasingly offering opportunities to businesses to grow. We are engaged by family-owned businesses, private equity and venture capital funded businesses, widely-held companies and other organisations to assist them in developing and delivering strategic direction to the business.\n",
            "\n",
            "We offer a bouquet of fully integrated strategic advisory services. Our extensive experience and in-depth knowledge combined with our collaborative approach helps dynamic businesses to grow.\n",
            "\n",
            "Some of our key business consulting services include:\n",
            "\n",
            "Strategy planning and implementation: These services are aimed at assisting the top management of an organisation in deciding the strategic direction and ensuring their functional heads buy into the vision of the organisation. We do this through the following:\n",
            "\n",
            "CEO Room: It includes a strategic workshop customised to the client’s current business, operating model, geographic coverage, financial performance and competition. The workshop effectively leads to the preparation of a strategy map for the client. Once the strategy map is developed, our team facilitates the buy-in of the functional heads of the organisation given that these people ‘deliver’ the top management’s vision. Strategy action plans: Basis the strategy map developed in the workshop, our team collaborates with each functional team over a series of sessions to develop their functional strategy.\n",
            "\n",
            "Market assessments and competition landscaping: We help businesses become more aware of their market, operating landscape, competition and own positioning. Our business consulting services typically include market size (volume and value), growth (historical and projected), demand-supply gap analysis, price point analysis, value chain, competitor analysis, drivers/challenges and trends, relevant models showing the business strengths and positioning, etc.\n",
            "\n",
            "Business planning: We develop comprehensive financial projections through detailed financial models covering a period of 3-5 years based on detailed assumptions and management discussions. The assumptions cover the detailed market scenario, operating model, regulatory aspects, pricing and margins basis competition, supply chain model, fixed and variable expenses etc.\n",
            "\n",
            "Commercial due diligence: Companies preparing for a transaction or currently in an ongoing transaction need an analysis of the market and competition, supply chain and validation of the future projections of the business basis the management model, customer interviews, competition and market assessment. Along with these analysis, we also provide a reasonability assessment on the financial projections by the management along with a detailed report, which can be used by investors and financial institutions to formulate their view on the transaction.\n",
            "\n",
            "Annual operating plan (AOP): Our specialist team assists companies in preparing detailed AOPs and budgets from a bottom-up perspective. It spans across departments and covers complex modelling and validation exercises across levels — plant and machinery level, sales and marketing, HR, IT, etc. It also includes detailed workshops to kick off and set common top-down and bottom-up objectives.\n",
            "\n",
            "These AOPs are backed by detailed bottom-up functional level strategy action plans. We also undertake quarterly monitoring against the AOPs developed.\n",
            "\n",
            "Working capital optimisation: Our team can assess the opportunity of potential savings in working capital by optimising structural and operational processes, directly impacting working capital. This results in medium to long term sustainable savings rather than focusing on tactical levers to meet short-term goals. Key coverage includes:\n"
          ]
        }
      ]
    },
    {
      "cell_type": "code",
      "source": [
        "#Tokenization\n",
        "text = corpus\n",
        "sentence_list = nltk.sent_tokenize(text)  # A list of sentences\n",
        "#Print the list of sentences \n",
        "print(sentence_list)"
      ],
      "metadata": {
        "colab": {
          "base_uri": "https://localhost:8080/"
        },
        "id": "NB09oigWixpI",
        "outputId": "6cfe1bcf-44b1-4374-b3e9-eabc4c4cc786"
      },
      "execution_count": 5,
      "outputs": [
        {
          "output_type": "stream",
          "name": "stdout",
          "text": [
            "['The country’s eased regulatory scenario and improved ease of doing are increasingly offering opportunities to businesses to grow.', 'We are engaged by family-owned businesses, private equity and venture capital funded businesses, widely-held companies and other organisations to assist them in developing and delivering strategic direction to the business.', 'We offer a bouquet of fully integrated strategic advisory services.', 'Our extensive experience and in-depth knowledge combined with our collaborative approach helps dynamic businesses to grow.', 'Some of our key business consulting services include:\\n\\nStrategy planning and implementation: These services are aimed at assisting the top management of an organisation in deciding the strategic direction and ensuring their functional heads buy into the vision of the organisation.', 'We do this through the following:\\n\\nCEO Room: It includes a strategic workshop customised to the client’s current business, operating model, geographic coverage, financial performance and competition.', 'The workshop effectively leads to the preparation of a strategy map for the client.', 'Once the strategy map is developed, our team facilitates the buy-in of the functional heads of the organisation given that these people ‘deliver’ the top management’s vision.', 'Strategy action plans: Basis the strategy map developed in the workshop, our team collaborates with each functional team over a series of sessions to develop their functional strategy.', 'Market assessments and competition landscaping: We help businesses become more aware of their market, operating landscape, competition and own positioning.', 'Our business consulting services typically include market size (volume and value), growth (historical and projected), demand-supply gap analysis, price point analysis, value chain, competitor analysis, drivers/challenges and trends, relevant models showing the business strengths and positioning, etc.', 'Business planning: We develop comprehensive financial projections through detailed financial models covering a period of 3-5 years based on detailed assumptions and management discussions.', 'The assumptions cover the detailed market scenario, operating model, regulatory aspects, pricing and margins basis competition, supply chain model, fixed and variable expenses etc.', 'Commercial due diligence: Companies preparing for a transaction or currently in an ongoing transaction need an analysis of the market and competition, supply chain and validation of the future projections of the business basis the management model, customer interviews, competition and market assessment.', 'Along with these analysis, we also provide a reasonability assessment on the financial projections by the management along with a detailed report, which can be used by investors and financial institutions to formulate their view on the transaction.', 'Annual operating plan (AOP): Our specialist team assists companies in preparing detailed AOPs and budgets from a bottom-up perspective.', 'It spans across departments and covers complex modelling and validation exercises across levels — plant and machinery level, sales and marketing, HR, IT, etc.', 'It also includes detailed workshops to kick off and set common top-down and bottom-up objectives.', 'These AOPs are backed by detailed bottom-up functional level strategy action plans.', 'We also undertake quarterly monitoring against the AOPs developed.', 'Working capital optimisation: Our team can assess the opportunity of potential savings in working capital by optimising structural and operational processes, directly impacting working capital.', 'This results in medium to long term sustainable savings rather than focusing on tactical levers to meet short-term goals.', 'Key coverage includes:']\n"
          ]
        }
      ]
    },
    {
      "cell_type": "code",
      "source": [
        "# A function to return a simple greeting response to the users greetings\n",
        "def greeting_response(text):\n",
        "  text = text.lower()\n",
        "\n",
        "# Bots greeting response\n",
        "  bot_greetings = ['howdy', 'hi', 'hey', 'hello', 'hola']\n",
        "\n",
        "#Users greeting\n",
        "  users_greetings = ['hi', 'hey', 'hello', 'hola', 'greetings', 'wassup']\n",
        "  for word in text.split():\n",
        "          for word in users_greetings:\n",
        "            return random.choice(bot_greetings)"
      ],
      "metadata": {
        "id": "UmuGROL7i0tI"
      },
      "execution_count": 6,
      "outputs": []
    },
    {
      "cell_type": "code",
      "source": [
        "def index_sort(list_var):\n",
        "  length = len(list_var)\n",
        "  list_index = list(range(0, length))\n",
        "\n",
        "  x = list_var\n",
        "  for i in range(length):\n",
        "    for j in range(length):\n",
        "      if x[list_index[i]] > x[list_index[j]]:\n",
        "        #Swap\n",
        "        temp = list_index[i]\n",
        "        list_index[i] = list_index[j]\n",
        "        list_index[j] = temp\n",
        "\n",
        "  return list_index"
      ],
      "metadata": {
        "id": "qStPcH08i3ko"
      },
      "execution_count": 7,
      "outputs": []
    },
    {
      "cell_type": "code",
      "source": [
        "#Create the bots response\n",
        "def bot_response(user_input):\n",
        "  user_input = user_input.lower()\n",
        "  sentence_list.append(user_input)\n",
        "  bot_response = ''\n",
        "  cm = CounterVectorizer().fit_transform(sentence_list)\n",
        "  similarity_scores = cosine_similarity(cm[-1], cm)\n",
        "  similarity_scores_list = similarity_scores.flatten()\n",
        "  index = index_sort(similarity_scores_list)\n",
        "  index = index[1:]\n",
        "  response_flag = 0\n",
        "\n",
        "  j = 0\n",
        "  for i in range(len(index)):\n",
        "    if similarity_scores_list[index[i]] > 0.0:\n",
        "      bot_response = bot_response+'  '+sentence_list[index[i]]\n",
        "      response_flag = 1\n",
        "      j = j+1\n",
        "    if j > 2:\n",
        "      break\n",
        "    \n",
        "  if response_flag == 0:\n",
        "    bot_response = bot_response+'  '+\"I aplogize, I don't understand.\"\n",
        "\n",
        "\n",
        "  sentence_list.remove(user_input)\n",
        "\n",
        "  return bot_response"
      ],
      "metadata": {
        "id": "PfN-Na4di6sZ"
      },
      "execution_count": 8,
      "outputs": []
    },
    {
      "cell_type": "code",
      "source": [
        "#Start the chat\n",
        "print('I am your business advisor for short . I will answer your queries about our services . If you want to exit, then type bye. ')\n",
        "\n",
        "\n",
        "exit_list = ['bye']\n",
        "\n",
        "\n",
        "while(True):\n",
        "  user_input = input()\n",
        "  if user_input.lower() in exit_list:\n",
        "    print('CodeClause Bot: Chat with you later !')\n",
        "    break\n",
        "  else:\n",
        "    if greeting_response(user_input) != None:\n",
        "      print('CodeClause Bot: '+greeting_response(user_input))\n",
        "    else:\n",
        "      print('CodeClause Bot: '+bot_response(user_input))"
      ],
      "metadata": {
        "colab": {
          "base_uri": "https://localhost:8080/"
        },
        "id": "vvNr0TB5i9cZ",
        "outputId": "c685e159-ef26-4319-b0c0-fd7401e72146"
      },
      "execution_count": 9,
      "outputs": [
        {
          "output_type": "stream",
          "name": "stdout",
          "text": [
            "I am your business advisor for short . I will answer your queries about our services . If you want to exit, then type bye. \n",
            "hello\n",
            "CodeClause Bot: hi\n",
            "hi\n",
            "CodeClause Bot: hola\n",
            "bye\n",
            "CodeClause Bot: Chat with you later !\n"
          ]
        }
      ]
    },
    {
      "cell_type": "code",
      "source": [],
      "metadata": {
        "id": "-5cTFi1ri_6h"
      },
      "execution_count": null,
      "outputs": []
    }
  ]
}